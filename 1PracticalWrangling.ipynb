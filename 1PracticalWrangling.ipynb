{
  "nbformat": 4,
  "nbformat_minor": 0,
  "metadata": {
    "colab": {
      "provenance": []
    },
    "kernelspec": {
      "name": "python3",
      "display_name": "Python 3"
    },
    "language_info": {
      "name": "python"
    }
  },
  "cells": [
    {
      "cell_type": "markdown",
      "source": [
        "# Introduction\n",
        "\n",
        "File-based formats\n",
        "\n",
        "They contain historical data in static files which can be downloaded from a database, emailed, or accessed via file-sharing sites.\n",
        "\n",
        "Feed-based data\n",
        "\n",
        "Real-time data sources.  These sources have their own unique formats and structures.  Access often via specialized application programming interfaces or APIs.  Accessing the \"endpoint\" via an API shows the most recent data.\n",
        "\n",
        "[Citi Bike's real-time json feed](https://gbfs.citibikenyc.com/gbfs/en/station_status.json)\n",
        "\n",
        "*note: these are not perfect distinctions, they can also be seen as complementary as one can be used to augment the other*"
      ],
      "metadata": {
        "id": "z6glg5NUnRIX"
      }
    },
    {
      "cell_type": "markdown",
      "source": [
        "# Structured Versus Unstructured Data\n",
        "\n",
        "The goal of most data wrangling projects is to generate insight and, often, to use data to make better decisions. But decisions are time sensitive, so our work with data also requires balancing trade-offs...As long as we can gain these efficiencies without sacrificing too much in terms of data quality, improving the timeliness of our data work can also increase its impact.\n",
        "\n",
        "One of the simplest ways to make our data wrangling more efficient is to seek out data formats that are easy for Python and other computational tools to access and understand...structured, machine-readable data...the United States legal definition of \"machine readable\" data from the Foundations for Evidence-Based Policymaking Act of 2019: data in a format that can be easily processed by a computer without human intervention while ensuring no semantic meaning is lost.  \n",
        "\n",
        "Structured data\n",
        "\n",
        "Organized and classified in some way, into some version of records and fields, such as rows and columns, lists of objects, or dictionaries.\n",
        "Examples: xls, xlsx, ods, tsv, csv, dbf, spss, txt\n",
        "\n",
        "Unstructured data\n",
        "\n",
        "May consist of different data types, combining text, numbers, photographs, images, waveforms of sound...Has some sort of record-and-field structure.\n",
        "Examples: xml, json, rss, atom, doc(x), pdf, mp3, jpg\n",
        "\n",
        "Unstructed to Structured\n",
        "\n",
        "Collecting information about the world and applying structure to it...organizing information.\n",
        "\n",
        "*Note: structure influences how it can be analyzed...data is the product of inherently subjective human choices...which reflect interests and priorities...trade-offs...inheriting bias...engaging a robust data quality process*\n",
        "\n"
      ],
      "metadata": {
        "id": "tgXym5A0rAOb"
      }
    },
    {
      "cell_type": "markdown",
      "source": [
        "# Smart Searching for Specific Data Types\n",
        "\n",
        "* Utilize file extension as keyword in search terms (.csv)\n",
        "* Use desired source, such as URL as a keyword (.com)\n",
        "* Locate only secure websites (https)\n",
        "* Using hyphen - to focus search, excluding results (-apple)\n"
      ],
      "metadata": {
        "id": "0UWpLyzdvyiQ"
      }
    },
    {
      "cell_type": "markdown",
      "source": [
        "# Working with Structured Data\n",
        "\n",
        "The TABLE (or collection of)\n",
        "\n",
        "### File-Based, Table-Type Data—Take It to Delimit\n",
        "\n",
        "See extension: \n",
        "\n",
        ".csv\n",
        "Comma-separated value files\n",
        "\n",
        ".tsv\n",
        "Tab-separated value files\n",
        "\n",
        ".txt\n",
        "Structured data files with this extension are often .tsv files in disguise; older data systems often labeled tab-separated data with the .txt extension - open and review any data file you want to wrangle with a basic text program (or a code editor like Atom)\n",
        "\n",
        ".xls(x)\n",
        "spreadsheets produced with Microsoft Excel. Because\n",
        "these files can contain multiple “sheets” in addition to formulas, formatting, and other features that simple delimited files cannot replicate, they need more memory to store the same amount of data\n",
        "\n",
        ".ods\n",
        "Open-document spreadsheet files are the default extension for spreadsheets produced by a number of open source software suites like LibreOffice and OpenOffice and have limitations and features similar to those of .xls(x) files"
      ],
      "metadata": {
        "id": "tkPEzDT1xGZK"
      }
    },
    {
      "cell_type": "markdown",
      "source": [
        "# Reading data from CSVs"
      ],
      "metadata": {
        "id": "4DAqHdOmzVL9"
      }
    },
    {
      "cell_type": "code",
      "execution_count": 3,
      "metadata": {
        "colab": {
          "base_uri": "https://localhost:8080/"
        },
        "id": "sqx_5nGSmtNN",
        "outputId": "445d7f95-e861-400b-a48c-4ac672268a4b"
      },
      "outputs": [
        {
          "output_type": "stream",
          "name": "stdout",
          "text": [
            "['tripduration', 'starttime', 'stoptime', 'start station id', 'start station name', 'start station latitude', 'start station longitude', 'end station id', 'end station name', 'end station latitude', 'end station longitude', 'bikeid', 'usertype', 'birth year', 'gender']\n",
            "{'tripduration': '4225', 'starttime': '2020-09-01 00:00:01.0430', 'stoptime': '2020-09-01 01:10:26.6350', 'start station id': '3508', 'start station name': 'St Nicholas Ave & Manhattan Ave', 'start station latitude': '40.809725', 'start station longitude': '-73.953149', 'end station id': '116', 'end station name': 'W 17 St & 8 Ave', 'end station latitude': '40.74177603', 'end station longitude': '-74.00149746', 'bikeid': '44317', 'usertype': 'Customer', 'birth year': '1979', 'gender': '1'}\n",
            "{'tripduration': '1868', 'starttime': '2020-09-01 00:00:04.8320', 'stoptime': '2020-09-01 00:31:13.7650', 'start station id': '3621', 'start station name': '27 Ave & 9 St', 'start station latitude': '40.7739825', 'start station longitude': '-73.9309134', 'end station id': '3094', 'end station name': 'Graham Ave & Withers St', 'end station latitude': '40.7169811', 'end station longitude': '-73.94485918', 'bikeid': '37793', 'usertype': 'Customer', 'birth year': '1991', 'gender': '1'}\n",
            "{'tripduration': '1097', 'starttime': '2020-09-01 00:00:06.8990', 'stoptime': '2020-09-01 00:18:24.2260', 'start station id': '3492', 'start station name': 'E 118 St & Park Ave', 'start station latitude': '40.8005385', 'start station longitude': '-73.9419949', 'end station id': '3959', 'end station name': 'Edgecombe Ave & W 145 St', 'end station latitude': '40.823498', 'end station longitude': '-73.94386', 'bikeid': '41438', 'usertype': 'Subscriber', 'birth year': '1984', 'gender': '1'}\n",
            "{'tripduration': '1473', 'starttime': '2020-09-01 00:00:07.7440', 'stoptime': '2020-09-01 00:24:41.1800', 'start station id': '3946', 'start station name': 'St Nicholas Ave & W 137 St', 'start station latitude': '40.818477', 'start station longitude': '-73.947568', 'end station id': '4002', 'end station name': 'W 144 St & Adam Clayton Powell Blvd', 'end station latitude': '40.820877', 'end station longitude': '-73.939249', 'bikeid': '35860', 'usertype': 'Customer', 'birth year': '1990', 'gender': '2'}\n",
            "{'tripduration': '1193', 'starttime': '2020-09-01 00:00:12.2020', 'stoptime': '2020-09-01 00:20:05.5470', 'start station id': '3081', 'start station name': 'Graham Ave & Grand St', 'start station latitude': '40.711863', 'start station longitude': '-73.944024', 'end station id': '3048', 'end station name': 'Putnam Ave & Nostrand Ave', 'end station latitude': '40.68402', 'end station longitude': '-73.94977', 'bikeid': '26396', 'usertype': 'Customer', 'birth year': '1969', 'gender': '0'}\n"
          ]
        }
      ],
      "source": [
        "# a simple example of reading data from a .csv file with Python\n",
        "# using the \"csv\" library.\n",
        "# the source data was sampled from the Citi Bike system data:\n",
        "# https://drive.google.com/file/d/17b461NhSjf_akFWvjgNXQfqgh9iFxCu_/\n",
        "# which can be found here:\n",
        "# https://s3.amazonaws.com/tripdata/index.html\n",
        "# import the `csv` library \n",
        "import csv\n",
        "# open the `202009CitibikeTripdataExample.csv` file in read (\"r\") mode\n",
        "# this file should be in the same folder as our Python script or notebook\n",
        "#source_file = open(\"202009CitibikeTripdataExample.csv\",\"r\")\n",
        "path = \"/content/202009CitibikeTripdataExample.csv\"\n",
        "source_file = open(path,\"r\")\n",
        "# pass our `source_file` as an ingredient to the `csv` library's\n",
        "# DictReader \"recipe\".\n",
        "# store the result in a variable called `citibike_reader`\n",
        "citibike_reader = csv.DictReader(source_file)\n",
        "# the DictReader method has added some useful information to our data,\n",
        "# like a `fieldnames` property that lets us access all the values\n",
        "# in the first or \"header\" row\n",
        "print(citibike_reader.fieldnames)\n",
        "# let's just print out the first 5 rows - i values of 0, 1, 2, 3, and 4.\n",
        "for i in range(0,5):\n",
        " print (next(citibike_reader))"
      ]
    },
    {
      "cell_type": "markdown",
      "source": [
        "* csv: workhorse library when it comes to dealing with table-type data\n",
        "* open() is a built-in function that takes a filename and a “mode” as parameters...“mode” can be r\n",
        "for “read” or w for “write.”\n",
        "* citibike_reader.fieldnames values, we can see that the\n",
        "exact label for columns\n",
        "* range() function gives us a way to execute some piece of code a specific\n",
        "number of times, starting with the value of the first argument and ending just *before* the value of the second\n",
        "\n",
        "### Adding Iterators: The range Function\n",
        "\n",
        "Python’s for loop is designed to run\n",
        "through all values in a list or a dataset by default.\n",
        "\n",
        "Iterator variable\n",
        "\n",
        "Like any variable,\n",
        "you can name an iterator anything you like, though i (for iterator!) is traditional....one place where Python iterators typically\n",
        "appear is within the range function—another example of a control flow function.\n",
        "\n",
        "the range function includes an iterator variable that lets us write a\n",
        "slightly different kind of for loop—one that goes through a certain number of rows,\n",
        "rather than all\n",
        "```python\n",
        "for item in complete_list_of_items:\n",
        "```\n",
        "certain number of items\n",
        "```python\n",
        "for item_position in range (starting_position, >number_of_places_to_move):\n",
        "  # action here\n",
        "for i in range(0,5):\n",
        " print (next(citibike_reader))\n",
        "```\n",
        "when the range iterates over the values specified in the\n",
        "parentheses, it includes the first number but excludes the second\n"
      ],
      "metadata": {
        "id": "KFd13Ov-1azl"
      }
    },
    {
      "cell_type": "code",
      "source": [],
      "metadata": {
        "id": "Q62ISi17z052"
      },
      "execution_count": null,
      "outputs": []
    },
    {
      "cell_type": "markdown",
      "source": [
        "# Reading data from TSV and TXT files\n",
        "\n",
        " DictReader function’s delimiter option...DictReader assumes that the comma character (,) is the\n",
        "separator it should look for...you can\n",
        "simply specify a different character when you call the function...specify the tab character (\\t), but we could easily substitute any delimiter we prefer\n",
        "(or that appears in a particular [source file](https://docs.python.org/3/library/csv.html))"
      ],
      "metadata": {
        "id": "3Uayqf7o3VNs"
      }
    },
    {
      "cell_type": "code",
      "source": [
        "# a simple example of reading data from a .tsv file with Python, using\n",
        "# the `csv` library. The source data was downloaded as a .tsv file\n",
        "# from Jed Shugerman's Google Sheet on prosecutor politicians: \n",
        "# https://docs.google.com/spreadsheets/d/1E6Z-jZWbrKmit_4lG36oyQ658Ta6Mh25HCOBaz7YVrA\n",
        "# import the `csv` library\n",
        "import csv\n",
        "# open the `ShugermanProsecutorPoliticians-SupremeCourtJustices.tsv` file\n",
        "# in read (\"r\") mode.\n",
        "# this file should be in the same folder as our Python script or notebook\n",
        "#tsv_source_file = open(\"ShugermanProsecutorPoliticians-SupremeCourtJustices.tsv\",\"r\")\n",
        "path = \"/content/Shugerman Research on Rise of Prosecutor Politicians - Supreme Court Justices.tsv\"\n",
        "tsv_source_file = open(path,\"r\")\n",
        "# pass our `tsv_source_file` as an ingredient to the csv library's\n",
        "# DictReader \"recipe.\"\n",
        "# store the result in a variable called `politicians_reader`\n",
        "politicians_reader = csv.DictReader(tsv_source_file, delimiter='\\t')\n",
        "# the DictReader method has added some useful information to our data,\n",
        "# like a `fieldnames` property that lets us access all the values\n",
        "# in the first or \"header\" row\n",
        "print(politicians_reader.fieldnames)\n",
        "# we'll use the `next()` function to print just the first row of data\n",
        "print (next(politicians_reader))"
      ],
      "metadata": {
        "colab": {
          "base_uri": "https://localhost:8080/"
        },
        "id": "TKC31wqg4HBC",
        "outputId": "6737a594-44dc-4e43-afef-b0648c60f771"
      },
      "execution_count": 5,
      "outputs": [
        {
          "output_type": "stream",
          "name": "stdout",
          "text": [
            "['', 'Justice', 'Term Start/End', 'Party', 'State', 'Pres Appt', 'Other Offices Held', 'Relevant Prosecutorial Background']\n",
            "{'': '40', 'Justice': 'William Strong', 'Term Start/End': '1870-1880', 'Party': 'D/R', 'State': 'PA', 'Pres Appt': 'Grant', 'Other Offices Held': 'US House, Supr Court of PA, elect comm for elec of 1876', 'Relevant Prosecutorial Background': 'lawyer'}\n"
          ]
        }
      ]
    },
    {
      "cell_type": "markdown",
      "source": [
        "This dataset was listed in Jeremy Singer-Vine’s (@jsvine) “Data Is Plural” newslet‐\n",
        "ter (https://data-is-plural.com).\n",
        "\n",
        "*Note:  Changing the extension of a file (for\n",
        "example, from .tsv to .txt or vice versa) does absolutely nothing to change its contents.\n",
        "All it does is change what your computer assumes should be done with it...Just specify the correct delimiter*"
      ],
      "metadata": {
        "id": "p00vpXgN4tB4"
      }
    },
    {
      "cell_type": "code",
      "source": [
        "# a simple example of reading data from a .tsv file with Python, using\n",
        "# the `csv` library. The source data was downloaded as a .tsv file\n",
        "# from Jed Shugerman's Google Sheet on prosecutor politicians:\n",
        "# https://docs.google.com/spreadsheets/d/1E6Z-jZWbrKmit_4lG36oyQ658Ta6Mh25HCOBaz7YVrA\n",
        "# the original .tsv file was renamed with a file extension of .txt\n",
        "# import the `csv` library\n",
        "import csv\n",
        "# open the `ShugermanProsecutorPoliticians-SupremeCourtJustices.txt` file\n",
        "# in read (\"r\") mode.\n",
        "# this file should be in the same folder as our Python script or notebook\n",
        "#txt_source_file = open(\"ShugermanProsecutorPoliticians-SupremeCourtJustices.txt\",\"r\")\n",
        "path = \"/content/Shugerman Research on Rise of Prosecutor Politicians - Supreme Court Justices.txt\"\n",
        "txt_source_file = open(path,\"r\")\n",
        "# pass our txt_source_file as an ingredient to the csv library's DictReader\n",
        "# \"recipe\" and store the result in a variable called `politicians_reader`\n",
        "# add the \"delimiter\" parameter and specify the tab character, \"\\t\"\n",
        "politicians_reader = csv.DictReader(txt_source_file, delimiter='\\t')\n",
        "# the DictReader function has added useful information to our data,\n",
        "# like a label that shows us all the values in the first or \"header\" row\n",
        "print(politicians_reader.fieldnames)\n",
        "# we'll use the `next()` function to print just the first row of data\n",
        "print (next(politicians_reader))\n"
      ],
      "metadata": {
        "colab": {
          "base_uri": "https://localhost:8080/"
        },
        "id": "ytd9m1dz4iVd",
        "outputId": "112a4d24-d691-4f1a-e457-5fb9473c7bc1"
      },
      "execution_count": 6,
      "outputs": [
        {
          "output_type": "stream",
          "name": "stdout",
          "text": [
            "['', 'Justice', 'Term Start/End', 'Party', 'State', 'Pres Appt', 'Other Offices Held', 'Relevant Prosecutorial Background']\n",
            "{'': '40', 'Justice': 'William Strong', 'Term Start/End': '1870-1880', 'Party': 'D/R', 'State': 'PA', 'Pres Appt': 'Grant', 'Other Offices Held': 'US House, Supr Court of PA, elect comm for elec of 1876', 'Relevant Prosecutorial Background': 'lawyer'}\n"
          ]
        }
      ]
    },
    {
      "cell_type": "code",
      "source": [],
      "metadata": {
        "id": "gbquRnCK6H1n"
      },
      "execution_count": null,
      "outputs": []
    },
    {
      "cell_type": "markdown",
      "source": [
        "### Escaped\n",
        "\n",
        "whitespace characters have to be escaped when we’re\n",
        "using them in code...\n",
        "\n",
        "* we’re using the escaped character for a tab, which\n",
        "is \\t. \n",
        "* another common whitespace character code is \\n for newline \n",
        "- (or \\r for\n",
        "return...)"
      ],
      "metadata": {
        "id": "OutobxAq6Mw6"
      }
    },
    {
      "cell_type": "markdown",
      "source": [
        "...to be continued..."
      ],
      "metadata": {
        "id": "YUlGN2dE76jd"
      }
    },
    {
      "cell_type": "code",
      "source": [],
      "metadata": {
        "id": "orrVaRLJ6nI3"
      },
      "execution_count": null,
      "outputs": []
    }
  ]
}