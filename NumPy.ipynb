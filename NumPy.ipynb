{
  "nbformat": 4,
  "nbformat_minor": 0,
  "metadata": {
    "colab": {
      "provenance": [],
      "authorship_tag": "ABX9TyONuF+QqWTE5Z0DhGyEGnRA",
      "include_colab_link": true
    },
    "kernelspec": {
      "name": "python3",
      "display_name": "Python 3"
    },
    "language_info": {
      "name": "python"
    }
  },
  "cells": [
    {
      "cell_type": "markdown",
      "metadata": {
        "id": "view-in-github",
        "colab_type": "text"
      },
      "source": [
        "<a href=\"https://colab.research.google.com/github/brittabeta/Learning-Sandbox/blob/main/NumPy.ipynb\" target=\"_parent\"><img src=\"https://colab.research.google.com/assets/colab-badge.svg\" alt=\"Open In Colab\"/></a>"
      ]
    },
    {
      "cell_type": "markdown",
      "source": [
        "# NumPy\n",
        "\n",
        "NumPy is a package for scientific computing built around the ndarray object, an N dimensional array object.  NumPy has highly optimized computational tools.\n",
        "\n",
        "The ndarray object size is set at creation and cannot be resized, it contains a single data type, and are not limited to two dimensions.\n",
        "\n",
        "The ndarray can be reshaped, returning a new array object..."
      ],
      "metadata": {
        "id": "Bx1wCatEeAf-"
      }
    },
    {
      "cell_type": "code",
      "execution_count": 1,
      "metadata": {
        "id": "qQDBCwuYbu_d"
      },
      "outputs": [],
      "source": [
        "import numpy as np"
      ]
    },
    {
      "cell_type": "markdown",
      "source": [
        "# Create NumPy Arrays\n",
        "\n",
        "sequence argument\n",
        "\n",
        "argument is a list"
      ],
      "metadata": {
        "id": "JKAiFAoRd8SF"
      }
    },
    {
      "cell_type": "code",
      "source": [
        "data = [1,2,3,4]\n",
        "first_array = np.array(data)\n",
        "first_array"
      ],
      "metadata": {
        "colab": {
          "base_uri": "https://localhost:8080/"
        },
        "id": "--hiRsNpds8N",
        "outputId": "ef1e9404-e92b-4b23-a5ca-bb50b015e7d8"
      },
      "execution_count": 7,
      "outputs": [
        {
          "output_type": "execute_result",
          "data": {
            "text/plain": [
              "array([1, 2, 3, 4])"
            ]
          },
          "metadata": {},
          "execution_count": 7
        }
      ]
    },
    {
      "cell_type": "markdown",
      "source": [
        "constructor\n",
        "\n",
        "argument is a list of lists"
      ],
      "metadata": {
        "id": "xmsqNuaEfdoc"
      }
    },
    {
      "cell_type": "code",
      "source": [
        "data = [[1,2,3],\n",
        "\t[4,5,6],\n",
        "\t[7,8,9]]\n",
        "my_array = np.array(data)"
      ],
      "metadata": {
        "id": "6eL5oI8-ds1Q"
      },
      "execution_count": 8,
      "outputs": []
    },
    {
      "cell_type": "code",
      "source": [
        "my_array"
      ],
      "metadata": {
        "colab": {
          "base_uri": "https://localhost:8080/"
        },
        "id": "8J-oMo8MdsyE",
        "outputId": "89563820-c393-4126-a247-0b58b075e406"
      },
      "execution_count": 9,
      "outputs": [
        {
          "output_type": "execute_result",
          "data": {
            "text/plain": [
              "array([[1, 2, 3],\n",
              "       [4, 5, 6],\n",
              "       [7, 8, 9]])"
            ]
          },
          "metadata": {},
          "execution_count": 9
        }
      ]
    },
    {
      "cell_type": "markdown",
      "source": [
        "Ones Method"
      ],
      "metadata": {
        "id": "FlqEUkfMfrNH"
      }
    },
    {
      "cell_type": "code",
      "source": [
        "np.ones(12)"
      ],
      "metadata": {
        "colab": {
          "base_uri": "https://localhost:8080/"
        },
        "id": "qPk8AQ4rdsvA",
        "outputId": "c7d5443f-2714-491c-ce7d-11b5037d80ca"
      },
      "execution_count": 10,
      "outputs": [
        {
          "output_type": "execute_result",
          "data": {
            "text/plain": [
              "array([1., 1., 1., 1., 1., 1., 1., 1., 1., 1., 1., 1.])"
            ]
          },
          "metadata": {},
          "execution_count": 10
        }
      ]
    },
    {
      "cell_type": "markdown",
      "source": [
        "Zeros Method"
      ],
      "metadata": {
        "id": "9FzLvJ9jfvo-"
      }
    },
    {
      "cell_type": "code",
      "source": [
        "np.zeros(12)"
      ],
      "metadata": {
        "colab": {
          "base_uri": "https://localhost:8080/"
        },
        "id": "x7AAOxCTdssD",
        "outputId": "b83983b8-c832-4bb5-c313-a7ad9aec7871"
      },
      "execution_count": 11,
      "outputs": [
        {
          "output_type": "execute_result",
          "data": {
            "text/plain": [
              "array([0., 0., 0., 0., 0., 0., 0., 0., 0., 0., 0., 0.])"
            ]
          },
          "metadata": {},
          "execution_count": 11
        }
      ]
    },
    {
      "cell_type": "markdown",
      "source": [
        "Arange Method\n",
        "\n",
        "arguments\n",
        "\n",
        "start\n",
        "\n",
        "stop\n",
        "\n",
        "step"
      ],
      "metadata": {
        "id": "6HlLuFdUf10L"
      }
    },
    {
      "cell_type": "code",
      "source": [
        "np.arange(10)"
      ],
      "metadata": {
        "colab": {
          "base_uri": "https://localhost:8080/"
        },
        "id": "s9TWwqBLdsop",
        "outputId": "97d124e0-6ce7-4455-8393-922165fc3e20"
      },
      "execution_count": 12,
      "outputs": [
        {
          "output_type": "execute_result",
          "data": {
            "text/plain": [
              "array([0, 1, 2, 3, 4, 5, 6, 7, 8, 9])"
            ]
          },
          "metadata": {},
          "execution_count": 12
        }
      ]
    },
    {
      "cell_type": "code",
      "source": [
        "np.arange(0,21,1)"
      ],
      "metadata": {
        "colab": {
          "base_uri": "https://localhost:8080/"
        },
        "id": "ytDq4qMjdsku",
        "outputId": "30ba4bbb-f053-4b95-c622-a4e9562a0376"
      },
      "execution_count": 17,
      "outputs": [
        {
          "output_type": "execute_result",
          "data": {
            "text/plain": [
              "array([ 0,  1,  2,  3,  4,  5,  6,  7,  8,  9, 10, 11, 12, 13, 14, 15, 16,\n",
              "       17, 18, 19, 20])"
            ]
          },
          "metadata": {},
          "execution_count": 17
        }
      ]
    },
    {
      "cell_type": "code",
      "source": [
        "np.arange(20,0,-2)"
      ],
      "metadata": {
        "colab": {
          "base_uri": "https://localhost:8080/"
        },
        "id": "2kEwmLlTgiv7",
        "outputId": "85231e0a-c12a-4a97-d217-b4bc0428dd5f"
      },
      "execution_count": 18,
      "outputs": [
        {
          "output_type": "execute_result",
          "data": {
            "text/plain": [
              "array([20, 18, 16, 14, 12, 10,  8,  6,  4,  2])"
            ]
          },
          "metadata": {},
          "execution_count": 18
        }
      ]
    },
    {
      "cell_type": "markdown",
      "source": [
        "# Dimensions and NumPy"
      ],
      "metadata": {
        "id": "HkdZvYrbgH00"
      }
    },
    {
      "cell_type": "code",
      "source": [
        "oned = np.arange(21)"
      ],
      "metadata": {
        "id": "3iijb4gtdsiU"
      },
      "execution_count": 19,
      "outputs": []
    },
    {
      "cell_type": "markdown",
      "source": [
        "Shape, Dimension, Size"
      ],
      "metadata": {
        "id": "I4Luop2Ngt-f"
      }
    },
    {
      "cell_type": "code",
      "source": [
        "oned.shape"
      ],
      "metadata": {
        "colab": {
          "base_uri": "https://localhost:8080/"
        },
        "id": "5zZn9A1pdse0",
        "outputId": "2e3351cc-d5ac-435d-8e01-aa778cefd025"
      },
      "execution_count": 20,
      "outputs": [
        {
          "output_type": "execute_result",
          "data": {
            "text/plain": [
              "(21,)"
            ]
          },
          "metadata": {},
          "execution_count": 20
        }
      ]
    },
    {
      "cell_type": "code",
      "source": [
        "oned.ndim"
      ],
      "metadata": {
        "colab": {
          "base_uri": "https://localhost:8080/"
        },
        "id": "KuquR1KUdsb8",
        "outputId": "87c9bcd2-5738-4a79-dbba-238ed1e87e57"
      },
      "execution_count": 21,
      "outputs": [
        {
          "output_type": "execute_result",
          "data": {
            "text/plain": [
              "1"
            ]
          },
          "metadata": {},
          "execution_count": 21
        }
      ]
    },
    {
      "cell_type": "code",
      "source": [
        "oned.size"
      ],
      "metadata": {
        "colab": {
          "base_uri": "https://localhost:8080/"
        },
        "id": "xJ_wIiYIdsYt",
        "outputId": "808d7746-f766-42aa-999f-cffdfc34b41a"
      },
      "execution_count": 22,
      "outputs": [
        {
          "output_type": "execute_result",
          "data": {
            "text/plain": [
              "21"
            ]
          },
          "metadata": {},
          "execution_count": 22
        }
      ]
    },
    {
      "cell_type": "markdown",
      "source": [
        "Two Dimensions\n",
        "\n",
        "list of lists"
      ],
      "metadata": {
        "id": "pxj9HgOwg7Eq"
      }
    },
    {
      "cell_type": "code",
      "source": [
        "list_o_lists = [[1,2,3],[4,5,6],[7,8,9]]\n",
        "twod = np.array(list_o_lists)\n",
        "twod"
      ],
      "metadata": {
        "colab": {
          "base_uri": "https://localhost:8080/"
        },
        "id": "krHF7Z3_dsVd",
        "outputId": "9bcba06d-87f1-47b3-ffba-11294042235a"
      },
      "execution_count": 23,
      "outputs": [
        {
          "output_type": "execute_result",
          "data": {
            "text/plain": [
              "array([[1, 2, 3],\n",
              "       [4, 5, 6],\n",
              "       [7, 8, 9]])"
            ]
          },
          "metadata": {},
          "execution_count": 23
        }
      ]
    },
    {
      "cell_type": "code",
      "source": [
        "twod.ndim"
      ],
      "metadata": {
        "colab": {
          "base_uri": "https://localhost:8080/"
        },
        "id": "wzqopKu_dsSD",
        "outputId": "842ac28c-1cec-4777-e7fb-4915903971d7"
      },
      "execution_count": 24,
      "outputs": [
        {
          "output_type": "execute_result",
          "data": {
            "text/plain": [
              "2"
            ]
          },
          "metadata": {},
          "execution_count": 24
        }
      ]
    },
    {
      "cell_type": "code",
      "source": [
        "twod.size"
      ],
      "metadata": {
        "colab": {
          "base_uri": "https://localhost:8080/"
        },
        "id": "juvImX89dsNz",
        "outputId": "04a24600-6cb4-4172-ebb3-a4e22f444c37"
      },
      "execution_count": 25,
      "outputs": [
        {
          "output_type": "execute_result",
          "data": {
            "text/plain": [
              "9"
            ]
          },
          "metadata": {},
          "execution_count": 25
        }
      ]
    },
    {
      "cell_type": "code",
      "source": [
        "twod.shape"
      ],
      "metadata": {
        "colab": {
          "base_uri": "https://localhost:8080/"
        },
        "id": "hbHukdB4dsGW",
        "outputId": "354ac6f5-bbac-4068-cee4-4a50b3ea02d7"
      },
      "execution_count": 26,
      "outputs": [
        {
          "output_type": "execute_result",
          "data": {
            "text/plain": [
              "(3, 3)"
            ]
          },
          "metadata": {},
          "execution_count": 26
        }
      ]
    },
    {
      "cell_type": "markdown",
      "source": [
        "Reshape\n",
        "\n",
        "dimensions are arguments"
      ],
      "metadata": {
        "id": "RFZPGCRohP6g"
      }
    },
    {
      "cell_type": "code",
      "source": [
        "oned = np.arange(12)\n",
        "oned"
      ],
      "metadata": {
        "colab": {
          "base_uri": "https://localhost:8080/"
        },
        "id": "2558603-dr-5",
        "outputId": "ada97dc4-2cc1-4ec4-9643-0bcdf8291809"
      },
      "execution_count": 28,
      "outputs": [
        {
          "output_type": "execute_result",
          "data": {
            "text/plain": [
              "array([ 0,  1,  2,  3,  4,  5,  6,  7,  8,  9, 10, 11])"
            ]
          },
          "metadata": {},
          "execution_count": 28
        }
      ]
    },
    {
      "cell_type": "code",
      "source": [
        "twod = oned.reshape(3,4)\n",
        "twod"
      ],
      "metadata": {
        "colab": {
          "base_uri": "https://localhost:8080/"
        },
        "id": "VGa6HazShihN",
        "outputId": "68f7fb40-4390-4e8a-d10b-57ffaafb705c"
      },
      "execution_count": 29,
      "outputs": [
        {
          "output_type": "execute_result",
          "data": {
            "text/plain": [
              "array([[ 0,  1,  2,  3],\n",
              "       [ 4,  5,  6,  7],\n",
              "       [ 8,  9, 10, 11]])"
            ]
          },
          "metadata": {},
          "execution_count": 29
        }
      ]
    },
    {
      "cell_type": "code",
      "source": [
        "twod.shape"
      ],
      "metadata": {
        "colab": {
          "base_uri": "https://localhost:8080/"
        },
        "id": "gy0_OTDQhiZO",
        "outputId": "faf05f73-4884-49a6-c61e-557db859422b"
      },
      "execution_count": 30,
      "outputs": [
        {
          "output_type": "execute_result",
          "data": {
            "text/plain": [
              "(3, 4)"
            ]
          },
          "metadata": {},
          "execution_count": 30
        }
      ]
    },
    {
      "cell_type": "markdown",
      "source": [
        "Higher Dimensions"
      ],
      "metadata": {
        "id": "7s6MgVu3hxgu"
      }
    },
    {
      "cell_type": "code",
      "source": [
        "threed = twod.reshape(2,2,3)\n",
        "threed"
      ],
      "metadata": {
        "colab": {
          "base_uri": "https://localhost:8080/"
        },
        "id": "gt0x2_VShiQU",
        "outputId": "e6ad5079-fcb0-49c0-a9ff-feed59fd885e"
      },
      "execution_count": 34,
      "outputs": [
        {
          "output_type": "execute_result",
          "data": {
            "text/plain": [
              "array([[[ 0,  1,  2],\n",
              "        [ 3,  4,  5]],\n",
              "\n",
              "       [[ 6,  7,  8],\n",
              "        [ 9, 10, 11]]])"
            ]
          },
          "metadata": {},
          "execution_count": 34
        }
      ]
    },
    {
      "cell_type": "code",
      "source": [
        "threed.shape"
      ],
      "metadata": {
        "colab": {
          "base_uri": "https://localhost:8080/"
        },
        "id": "EWo3_PLHhiHT",
        "outputId": "c17a30df-c481-45d3-bd0b-e32a316673eb"
      },
      "execution_count": 35,
      "outputs": [
        {
          "output_type": "execute_result",
          "data": {
            "text/plain": [
              "(2, 2, 3)"
            ]
          },
          "metadata": {},
          "execution_count": 35
        }
      ]
    },
    {
      "cell_type": "code",
      "source": [
        "threed.ndim"
      ],
      "metadata": {
        "colab": {
          "base_uri": "https://localhost:8080/"
        },
        "id": "_dBYn3s0drzB",
        "outputId": "dfc7c1d5-379b-4535-b4e9-6c0625730971"
      },
      "execution_count": 36,
      "outputs": [
        {
          "output_type": "execute_result",
          "data": {
            "text/plain": [
              "3"
            ]
          },
          "metadata": {},
          "execution_count": 36
        }
      ]
    },
    {
      "cell_type": "markdown",
      "source": [
        "# Setting Data Type"
      ],
      "metadata": {
        "id": "_Z2gFuK0iRw2"
      }
    },
    {
      "cell_type": "code",
      "source": [
        "darray = np.arange(100)\n",
        "darray"
      ],
      "metadata": {
        "colab": {
          "base_uri": "https://localhost:8080/"
        },
        "id": "UUamNtc4iQk-",
        "outputId": "be71e092-e45a-4b82-b666-6577d91eb80a"
      },
      "execution_count": 37,
      "outputs": [
        {
          "output_type": "execute_result",
          "data": {
            "text/plain": [
              "array([ 0,  1,  2,  3,  4,  5,  6,  7,  8,  9, 10, 11, 12, 13, 14, 15, 16,\n",
              "       17, 18, 19, 20, 21, 22, 23, 24, 25, 26, 27, 28, 29, 30, 31, 32, 33,\n",
              "       34, 35, 36, 37, 38, 39, 40, 41, 42, 43, 44, 45, 46, 47, 48, 49, 50,\n",
              "       51, 52, 53, 54, 55, 56, 57, 58, 59, 60, 61, 62, 63, 64, 65, 66, 67,\n",
              "       68, 69, 70, 71, 72, 73, 74, 75, 76, 77, 78, 79, 80, 81, 82, 83, 84,\n",
              "       85, 86, 87, 88, 89, 90, 91, 92, 93, 94, 95, 96, 97, 98, 99])"
            ]
          },
          "metadata": {},
          "execution_count": 37
        }
      ]
    },
    {
      "cell_type": "code",
      "source": [
        "darray.dtype"
      ],
      "metadata": {
        "colab": {
          "base_uri": "https://localhost:8080/"
        },
        "id": "CFrpxp2tiQWz",
        "outputId": "b3138b68-a9bf-448c-88db-6994e6f29b7e"
      },
      "execution_count": 38,
      "outputs": [
        {
          "output_type": "execute_result",
          "data": {
            "text/plain": [
              "dtype('int64')"
            ]
          },
          "metadata": {},
          "execution_count": 38
        }
      ]
    },
    {
      "cell_type": "code",
      "source": [
        "darray.nbytes"
      ],
      "metadata": {
        "colab": {
          "base_uri": "https://localhost:8080/"
        },
        "id": "8Z5h9kC7iQPG",
        "outputId": "0b481c73-7a4e-4bbe-b3bd-cf25f624a9d3"
      },
      "execution_count": 39,
      "outputs": [
        {
          "output_type": "execute_result",
          "data": {
            "text/plain": [
              "800"
            ]
          },
          "metadata": {},
          "execution_count": 39
        }
      ]
    },
    {
      "cell_type": "markdown",
      "source": [
        "choose a dtype"
      ],
      "metadata": {
        "id": "Sda2BWYBkB7l"
      }
    },
    {
      "cell_type": "code",
      "source": [
        "darray = np.arange(100, dtype=np.int8)"
      ],
      "metadata": {
        "id": "6vQYmt3tiQGo"
      },
      "execution_count": 40,
      "outputs": []
    },
    {
      "cell_type": "code",
      "source": [
        "darray.dtype"
      ],
      "metadata": {
        "colab": {
          "base_uri": "https://localhost:8080/"
        },
        "id": "tHqx36KTiP6S",
        "outputId": "153f0ed6-3777-4006-bef1-b8932fad9ac2"
      },
      "execution_count": 41,
      "outputs": [
        {
          "output_type": "execute_result",
          "data": {
            "text/plain": [
              "dtype('int8')"
            ]
          },
          "metadata": {},
          "execution_count": 41
        }
      ]
    },
    {
      "cell_type": "code",
      "source": [
        "darray.nbytes"
      ],
      "metadata": {
        "colab": {
          "base_uri": "https://localhost:8080/"
        },
        "id": "dNj3JW3MkJVu",
        "outputId": "1f7da2fd-ed8f-4332-ba67-d2c8f1b36467"
      },
      "execution_count": 42,
      "outputs": [
        {
          "output_type": "execute_result",
          "data": {
            "text/plain": [
              "100"
            ]
          },
          "metadata": {},
          "execution_count": 42
        }
      ]
    },
    {
      "cell_type": "markdown",
      "source": [
        "### Caution: a misleading output"
      ],
      "metadata": {
        "id": "ce3MtXZpkQoN"
      }
    },
    {
      "cell_type": "code",
      "source": [
        "darray[12] = 0.4\n",
        "darray"
      ],
      "metadata": {
        "colab": {
          "base_uri": "https://localhost:8080/"
        },
        "id": "gqqk2reykAYi",
        "outputId": "235480c0-95a3-43e9-e446-d9c1cab269e4"
      },
      "execution_count": 44,
      "outputs": [
        {
          "output_type": "execute_result",
          "data": {
            "text/plain": [
              "array([ 0,  1,  2,  3,  4,  5,  6,  7,  8,  9, 10, 11,  0, 13, 14, 15, 16,\n",
              "       17, 18, 19, 20, 21, 22, 23, 24, 25, 26, 27, 28, 29, 30, 31, 32, 33,\n",
              "       34, 35, 36, 37, 38, 39, 40, 41, 42, 43, 44, 45, 46, 47, 48, 49, 50,\n",
              "       51, 52, 53, 54, 55, 56, 57, 58, 59, 60, 61, 62, 63, 64, 65, 66, 67,\n",
              "       68, 69, 70, 71, 72, 73, 74, 75, 76, 77, 78, 79, 80, 81, 82, 83, 84,\n",
              "       85, 86, 87, 88, 89, 90, 91, 92, 93, 94, 95, 96, 97, 98, 99],\n",
              "      dtype=int8)"
            ]
          },
          "metadata": {},
          "execution_count": 44
        }
      ]
    },
    {
      "cell_type": "code",
      "source": [
        "darray[12]"
      ],
      "metadata": {
        "colab": {
          "base_uri": "https://localhost:8080/"
        },
        "id": "O21Diqw8kl2p",
        "outputId": "1f023353-2a15-45fb-a13d-b7fe95a3026e"
      },
      "execution_count": 45,
      "outputs": [
        {
          "output_type": "execute_result",
          "data": {
            "text/plain": [
              "0"
            ]
          },
          "metadata": {},
          "execution_count": 45
        }
      ]
    },
    {
      "cell_type": "markdown",
      "source": [
        "you cannot combine float and int, or int8 and int64\n",
        "\n",
        "output 0 is 0.4 with .4 stripped off"
      ],
      "metadata": {
        "id": "Kkv9sku1kpHs"
      }
    },
    {
      "cell_type": "markdown",
      "source": [
        "# Broadcasting and Dimensions"
      ],
      "metadata": {
        "id": "GVKOsRq7k6nN"
      }
    },
    {
      "cell_type": "code",
      "source": [
        "A1 = np.array([[1,2,3],\n",
        "\t\t[4,5,6],\n",
        "\t\t[7,8,9]])\n",
        "A1.shape"
      ],
      "metadata": {
        "colab": {
          "base_uri": "https://localhost:8080/"
        },
        "id": "u_UcZNCzk-pt",
        "outputId": "9ccf60be-1bb3-44dc-ebf3-80af6b5fec6f"
      },
      "execution_count": 46,
      "outputs": [
        {
          "output_type": "execute_result",
          "data": {
            "text/plain": [
              "(3, 3)"
            ]
          },
          "metadata": {},
          "execution_count": 46
        }
      ]
    },
    {
      "cell_type": "code",
      "source": [
        "A2 = np.array([[1,1,1],\n",
        "\t\t[1,1,1],\n",
        "\t\t[1,1,1]])\n",
        "A2.shape"
      ],
      "metadata": {
        "colab": {
          "base_uri": "https://localhost:8080/"
        },
        "id": "goHiFS6mlF6G",
        "outputId": "e2ea06ab-a7b1-47dc-ce22-3ce108b084d0"
      },
      "execution_count": 47,
      "outputs": [
        {
          "output_type": "execute_result",
          "data": {
            "text/plain": [
              "(3, 3)"
            ]
          },
          "metadata": {},
          "execution_count": 47
        }
      ]
    },
    {
      "cell_type": "markdown",
      "source": [
        "add the arrays"
      ],
      "metadata": {
        "id": "imrmYoDylLIN"
      }
    },
    {
      "cell_type": "code",
      "source": [
        "A1 + A2"
      ],
      "metadata": {
        "colab": {
          "base_uri": "https://localhost:8080/"
        },
        "id": "lHGnIu1clFcM",
        "outputId": "58f001f0-74be-47c3-d748-93c060e8eb1e"
      },
      "execution_count": 48,
      "outputs": [
        {
          "output_type": "execute_result",
          "data": {
            "text/plain": [
              "array([[ 2,  3,  4],\n",
              "       [ 5,  6,  7],\n",
              "       [ 8,  9, 10]])"
            ]
          },
          "metadata": {},
          "execution_count": 48
        }
      ]
    },
    {
      "cell_type": "markdown",
      "source": [
        "add a single value"
      ],
      "metadata": {
        "id": "u1GUeNO3lXJZ"
      }
    },
    {
      "cell_type": "code",
      "source": [
        "A3 = A1 + 3\n",
        "A3"
      ],
      "metadata": {
        "colab": {
          "base_uri": "https://localhost:8080/"
        },
        "id": "JswYFJINlUep",
        "outputId": "d1de50a6-b885-4e0b-e2ae-d3d5e2295c08"
      },
      "execution_count": 50,
      "outputs": [
        {
          "output_type": "execute_result",
          "data": {
            "text/plain": [
              "array([[ 4,  5,  6],\n",
              "       [ 7,  8,  9],\n",
              "       [10, 11, 12]])"
            ]
          },
          "metadata": {},
          "execution_count": 50
        }
      ]
    },
    {
      "cell_type": "code",
      "source": [
        "A3.shape"
      ],
      "metadata": {
        "colab": {
          "base_uri": "https://localhost:8080/"
        },
        "id": "ioKEGYzElhGu",
        "outputId": "1cae811b-7c96-4314-c783-0d3344716a46"
      },
      "execution_count": 51,
      "outputs": [
        {
          "output_type": "execute_result",
          "data": {
            "text/plain": [
              "(3, 3)"
            ]
          },
          "metadata": {},
          "execution_count": 51
        }
      ]
    },
    {
      "cell_type": "markdown",
      "source": [
        "shape of the result matches the array\n",
        "\n",
        "add arrays of different shape"
      ],
      "metadata": {
        "id": "1PDy4amAlq2g"
      }
    },
    {
      "cell_type": "code",
      "source": [
        "A3 = np.array([1,1,1])\n",
        "A3.shape"
      ],
      "metadata": {
        "colab": {
          "base_uri": "https://localhost:8080/"
        },
        "id": "wqjgsi6wlyDO",
        "outputId": "bce61e70-3198-4b23-df23-34d9f03f373f"
      },
      "execution_count": 52,
      "outputs": [
        {
          "output_type": "execute_result",
          "data": {
            "text/plain": [
              "(3,)"
            ]
          },
          "metadata": {},
          "execution_count": 52
        }
      ]
    },
    {
      "cell_type": "code",
      "source": [
        "A1 + A3"
      ],
      "metadata": {
        "colab": {
          "base_uri": "https://localhost:8080/"
        },
        "id": "s3A9RLOwlg3o",
        "outputId": "5d93d04f-c1d7-4ffa-e229-b3a74be96f2b"
      },
      "execution_count": 53,
      "outputs": [
        {
          "output_type": "execute_result",
          "data": {
            "text/plain": [
              "array([[ 2,  3,  4],\n",
              "       [ 5,  6,  7],\n",
              "       [ 8,  9, 10]])"
            ]
          },
          "metadata": {},
          "execution_count": 53
        }
      ]
    },
    {
      "cell_type": "markdown",
      "source": [
        "Broadcasting, the result of operations between arrays is expanded out to an array that has the maximum dimensions for the respective dimension"
      ],
      "metadata": {
        "id": "EKIrtKL1mJeE"
      }
    },
    {
      "cell_type": "code",
      "source": [
        "A4 = np.arange(10).reshape(2,1,5)\n",
        "A4"
      ],
      "metadata": {
        "colab": {
          "base_uri": "https://localhost:8080/"
        },
        "id": "KoSJBBBWmjC6",
        "outputId": "40c92791-96e6-4f06-be39-a84d001f22e4"
      },
      "execution_count": 54,
      "outputs": [
        {
          "output_type": "execute_result",
          "data": {
            "text/plain": [
              "array([[[0, 1, 2, 3, 4]],\n",
              "\n",
              "       [[5, 6, 7, 8, 9]]])"
            ]
          },
          "metadata": {},
          "execution_count": 54
        }
      ]
    },
    {
      "cell_type": "code",
      "source": [
        "A4.shape"
      ],
      "metadata": {
        "colab": {
          "base_uri": "https://localhost:8080/"
        },
        "id": "RFoDbFiYmixn",
        "outputId": "20d4dcbf-2fb6-4d74-d59e-c6e577056958"
      },
      "execution_count": 55,
      "outputs": [
        {
          "output_type": "execute_result",
          "data": {
            "text/plain": [
              "(2, 1, 5)"
            ]
          },
          "metadata": {},
          "execution_count": 55
        }
      ]
    },
    {
      "cell_type": "code",
      "source": [
        "A5 = np.arange(14).reshape(2,7,1)\n",
        "A5"
      ],
      "metadata": {
        "colab": {
          "base_uri": "https://localhost:8080/"
        },
        "id": "2JZ13B8bmiRe",
        "outputId": "0d624335-4384-44db-d1f7-5fd77ac3af3d"
      },
      "execution_count": 56,
      "outputs": [
        {
          "output_type": "execute_result",
          "data": {
            "text/plain": [
              "array([[[ 0],\n",
              "        [ 1],\n",
              "        [ 2],\n",
              "        [ 3],\n",
              "        [ 4],\n",
              "        [ 5],\n",
              "        [ 6]],\n",
              "\n",
              "       [[ 7],\n",
              "        [ 8],\n",
              "        [ 9],\n",
              "        [10],\n",
              "        [11],\n",
              "        [12],\n",
              "        [13]]])"
            ]
          },
          "metadata": {},
          "execution_count": 56
        }
      ]
    },
    {
      "cell_type": "code",
      "source": [
        "A5.shape"
      ],
      "metadata": {
        "colab": {
          "base_uri": "https://localhost:8080/"
        },
        "id": "XHt7M8_AkAJu",
        "outputId": "f24de545-3247-4ee6-c846-a167d972cc35"
      },
      "execution_count": 57,
      "outputs": [
        {
          "output_type": "execute_result",
          "data": {
            "text/plain": [
              "(2, 7, 1)"
            ]
          },
          "metadata": {},
          "execution_count": 57
        }
      ]
    },
    {
      "cell_type": "code",
      "source": [
        "A6 = A4 + A5\n",
        "A6"
      ],
      "metadata": {
        "colab": {
          "base_uri": "https://localhost:8080/"
        },
        "id": "1L61mnc3my2Q",
        "outputId": "f0958bb0-9e3a-4d58-9fc3-4d550e8f74cd"
      },
      "execution_count": 59,
      "outputs": [
        {
          "output_type": "execute_result",
          "data": {
            "text/plain": [
              "array([[[ 0,  1,  2,  3,  4],\n",
              "        [ 1,  2,  3,  4,  5],\n",
              "        [ 2,  3,  4,  5,  6],\n",
              "        [ 3,  4,  5,  6,  7],\n",
              "        [ 4,  5,  6,  7,  8],\n",
              "        [ 5,  6,  7,  8,  9],\n",
              "        [ 6,  7,  8,  9, 10]],\n",
              "\n",
              "       [[12, 13, 14, 15, 16],\n",
              "        [13, 14, 15, 16, 17],\n",
              "        [14, 15, 16, 17, 18],\n",
              "        [15, 16, 17, 18, 19],\n",
              "        [16, 17, 18, 19, 20],\n",
              "        [17, 18, 19, 20, 21],\n",
              "        [18, 19, 20, 21, 22]]])"
            ]
          },
          "metadata": {},
          "execution_count": 59
        }
      ]
    },
    {
      "cell_type": "code",
      "source": [
        "A6.shape"
      ],
      "metadata": {
        "colab": {
          "base_uri": "https://localhost:8080/"
        },
        "id": "JHG8zNCBmyqr",
        "outputId": "8e0790cd-ff07-4c67-a85f-957615cfc46e"
      },
      "execution_count": 60,
      "outputs": [
        {
          "output_type": "execute_result",
          "data": {
            "text/plain": [
              "(2, 7, 5)"
            ]
          },
          "metadata": {},
          "execution_count": 60
        }
      ]
    },
    {
      "cell_type": "markdown",
      "source": [
        "# Matrix Operations"
      ],
      "metadata": {
        "id": "4WUK1O0SnB6j"
      }
    },
    {
      "cell_type": "code",
      "source": [
        "M1 = np.arange(9).reshape(3,3)\n",
        "M1"
      ],
      "metadata": {
        "colab": {
          "base_uri": "https://localhost:8080/"
        },
        "id": "eGHXiwKIbw2L",
        "outputId": "91f17047-ce88-4ecc-fd32-0cc12e155ace"
      },
      "execution_count": 2,
      "outputs": [
        {
          "output_type": "execute_result",
          "data": {
            "text/plain": [
              "array([[0, 1, 2],\n",
              "       [3, 4, 5],\n",
              "       [6, 7, 8]])"
            ]
          },
          "metadata": {},
          "execution_count": 2
        }
      ]
    },
    {
      "cell_type": "code",
      "source": [
        "M2 = np.arange(2,11).reshape(3,3)\n",
        "M2"
      ],
      "metadata": {
        "colab": {
          "base_uri": "https://localhost:8080/"
        },
        "id": "B4VHUtilb0WS",
        "outputId": "c7bf96a7-e69e-491e-c4a1-77c226f0ae79"
      },
      "execution_count": 3,
      "outputs": [
        {
          "output_type": "execute_result",
          "data": {
            "text/plain": [
              "array([[ 2,  3,  4],\n",
              "       [ 5,  6,  7],\n",
              "       [ 8,  9, 10]])"
            ]
          },
          "metadata": {},
          "execution_count": 3
        }
      ]
    },
    {
      "cell_type": "markdown",
      "source": [
        "Matrix Transpose"
      ],
      "metadata": {
        "id": "Yk5UhhNTnOhq"
      }
    },
    {
      "cell_type": "code",
      "source": [
        "M1.transpose()"
      ],
      "metadata": {
        "colab": {
          "base_uri": "https://localhost:8080/"
        },
        "id": "nqsQSeeCb4EV",
        "outputId": "508a5f4f-b2b0-4355-a915-889c4cc04c24"
      },
      "execution_count": 4,
      "outputs": [
        {
          "output_type": "execute_result",
          "data": {
            "text/plain": [
              "array([[0, 3, 6],\n",
              "       [1, 4, 7],\n",
              "       [2, 5, 8]])"
            ]
          },
          "metadata": {},
          "execution_count": 4
        }
      ]
    },
    {
      "cell_type": "markdown",
      "source": [
        "Diagonal"
      ],
      "metadata": {
        "id": "WdLKg19wnRtX"
      }
    },
    {
      "cell_type": "code",
      "source": [
        "M1.diagonal()"
      ],
      "metadata": {
        "colab": {
          "base_uri": "https://localhost:8080/"
        },
        "id": "JjOVAAJ6cP1b",
        "outputId": "a4121999-790f-4aae-e88d-e0fdd221c318"
      },
      "execution_count": 5,
      "outputs": [
        {
          "output_type": "execute_result",
          "data": {
            "text/plain": [
              "array([0, 4, 8])"
            ]
          },
          "metadata": {},
          "execution_count": 5
        }
      ]
    },
    {
      "cell_type": "markdown",
      "source": [
        "Matrix Product"
      ],
      "metadata": {
        "id": "FXKDYmDgnT98"
      }
    },
    {
      "cell_type": "code",
      "source": [
        "M1@M2"
      ],
      "metadata": {
        "colab": {
          "base_uri": "https://localhost:8080/"
        },
        "id": "twM8ZHpAcjP6",
        "outputId": "1862cd5f-5b6c-4b4f-98ed-129da204647a"
      },
      "execution_count": 6,
      "outputs": [
        {
          "output_type": "execute_result",
          "data": {
            "text/plain": [
              "array([[ 21,  24,  27],\n",
              "       [ 66,  78,  90],\n",
              "       [111, 132, 153]])"
            ]
          },
          "metadata": {},
          "execution_count": 6
        }
      ]
    },
    {
      "cell_type": "markdown",
      "source": [
        "![Matrix_multiplication_qtl1.svg](data:image/svg+xml;base64,PD94bWwgdmVyc2lvbj0iMS4wIj8+CjxzdmcgeG1sbnM9Imh0dHA6Ly93d3cudzMub3JnLzIwMDAvc3ZnIiB3aWR0aD0iNjIwIiBoZWlnaHQ9IjM1MCIgdmlld0JveD0iMCAwIDYyMCAzNTAiPgoJPGRlZnM+CgkJPHBhdHRlcm4gaWQ9ImdyaWQiIHdpZHRoPSI0MCIgaGVpZ2h0PSI0MCIgcGF0dGVyblVuaXRzPSJ1c2VyU3BhY2VPblVzZSI+CgkJCTxyZWN0IHdpZHRoPSI0MCIgaGVpZ2h0PSI0MCIgZmlsbD0ibm9uZSIgc3Ryb2tlPSIjMDAwIi8+CgkJPC9wYXR0ZXJuPgoJPC9kZWZzPgoJCgk8ZyB0cmFuc2Zvcm09InRyYW5zbGF0ZSgzMCw1MCkiPgoJCTxyZWN0IHdpZHRoPSIxMjAiIGhlaWdodD0iMjAwIiBmaWxsPSIjYWZlOWFmIiBzdHJva2U9IiMwMDAiLz4KCQk8cmVjdCB3aWR0aD0iMTIwIiBoZWlnaHQ9IjIwMCIgZmlsbD0idXJsKCNncmlkKSIvPgoJPC9nPgoJCgk8ZyB0cmFuc2Zvcm09InRyYW5zbGF0ZSgyMTAsOTApIj4KCQk8cmVjdCB3aWR0aD0iMTYwIiBoZWlnaHQ9IjEyMCIgZmlsbD0iI2ZhYSIgc3Ryb2tlPSIjMDAwIi8+CgkJPHJlY3Qgd2lkdGg9IjE2MCIgaGVpZ2h0PSIxMjAiIGZpbGw9InVybCgjZ3JpZCkiLz4KCTwvZz4KCQoJPGcgdHJhbnNmb3JtPSJ0cmFuc2xhdGUoNDMwLDUwKSI+CgkJPHJlY3Qgd2lkdGg9IjE2MCIgaGVpZ2h0PSIyMDAiIGZpbGw9IiNhY2YiIHN0cm9rZT0iIzAwMCIvPgoJCTxyZWN0IHdpZHRoPSIxNjAiIGhlaWdodD0iMjAwIiBmaWxsPSJ1cmwoI2dyaWQpIi8+Cgk8L2c+CgoJPGcgZm9udC1mYW1pbHk9IlRpbWVzIE5ldyBSb21hbiIgdGV4dC1hbmNob3I9ImVuZCI+CgkJPHRleHQgeD0iMTg5IiB5PSIxNzIiIGZvbnQtc2l6ZT0iNjQiPuKImTwvdGV4dD4KCQk8dGV4dCB4PSI0MTQiIHk9IjE2NiIgZm9udC1zaXplPSI0OCI+PTwvdGV4dD4KCQk8dGV4dCB4PSIxODkiIHk9IjMyNCIgZm9udC1zaXplPSI2NCI+4oiZPC90ZXh0PgoJCTx0ZXh0IHg9IjQxNCIgeT0iMzE4IiBmb250LXNpemU9IjQ4Ij49PC90ZXh0PgoJPC9nPgoJCgk8ZyBmb250LWZhbWlseT0iU2FucyIgZm9udC1zaXplPSIzMiIgdGV4dC1hbmNob3I9ImVuZCI+CgkJPGcgZm9udC1zaXplPSI0OCI+CgkJCTx0ZXh0IHg9IjEwNyIgeT0iMzIwIj5BPC90ZXh0PgoJCQk8dGV4dCB4PSIzMDYiIHk9IjMyMCI+QjwvdGV4dD4KCQkJPHRleHQgeD0iNTI3IiB5PSIzMjAiPkM8L3RleHQ+CgkJPC9nPgoJCTx0ZXh0IHg9IjIwIiB5PSIyNTAiPmw8L3RleHQ+CgkJPHRleHQgeD0iMTUwIiB5PSI0MCI+bTwvdGV4dD4KCQk8dGV4dCB4PSIyMDAiIHk9IjIxMCI+bTwvdGV4dD4KCQk8dGV4dCB4PSIzNzAiIHk9IjgwIj5uPC90ZXh0PgoJCTx0ZXh0IHg9IjQyMCIgeT0iMjUwIj5sPC90ZXh0PgoJCTx0ZXh0IHg9IjU5MCIgeT0iNDAiPm48L3RleHQ+Cgk8L2c+Cjwvc3ZnPgo=)"
      ],
      "metadata": {
        "id": "b-Bq1XESovPE"
      }
    },
    {
      "cell_type": "markdown",
      "source": [
        "![Matrix_multiplication_diagram_2.svg](data:image/svg+xml;base64,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)"
      ],
      "metadata": {
        "id": "Z8ORsLdPo1pc"
      }
    },
    {
      "cell_type": "markdown",
      "source": [
        "![Mmult_factory_svg.svg](data:image/svg+xml;base64,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)"
      ],
      "metadata": {
        "id": "O58kKUq-pc6t"
      }
    },
    {
      "cell_type": "code",
      "source": [],
      "metadata": {
        "id": "wXyNdlb0pf5r"
      },
      "execution_count": null,
      "outputs": []
    }
  ]
}