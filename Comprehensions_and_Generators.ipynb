{
  "cells": [
    {
      "cell_type": "markdown",
      "metadata": {
        "id": "view-in-github",
        "colab_type": "text"
      },
      "source": [
        "<a href=\"https://colab.research.google.com/github/brittabeta/Learning-Sandbox/blob/main/Comprehensions_and_Generators.ipynb\" target=\"_parent\"><img src=\"https://colab.research.google.com/assets/colab-badge.svg\" alt=\"Open In Colab\"/></a>"
      ]
    },
    {
      "cell_type": "markdown",
      "metadata": {
        "id": "nY-VlJLE5zxx"
      },
      "source": [
        "# Comprehensions and Generators"
      ]
    },
    {
      "cell_type": "markdown",
      "metadata": {
        "id": "t4KmXwLd5zx1"
      },
      "source": [
        "1. Write a list comprehension which returns the square of each number from 0 to 15"
      ]
    },
    {
      "cell_type": "code",
      "execution_count": 2,
      "metadata": {
        "colab": {
          "base_uri": "https://localhost:8080/"
        },
        "id": "sjTxhbCv5zx2",
        "outputId": "be7d05b4-abf5-4686-c8c2-ad4297fea782"
      },
      "outputs": [
        {
          "output_type": "execute_result",
          "data": {
            "text/plain": [
              "[0, 1, 4, 9, 16, 25, 36, 49, 64, 81, 100, 121, 144, 169, 196, 225]"
            ]
          },
          "metadata": {},
          "execution_count": 2
        }
      ],
      "source": [
        "[x**2 for x   in range(16)      ]"
      ]
    },
    {
      "cell_type": "markdown",
      "metadata": {
        "id": "VffOwXNL5zx3"
      },
      "source": [
        " 2. The expression `x%4==0` will return `True` if 4 is a factor of `x`. Write a list comprehension which will return numbers from 0 to 20 which have 4 as a factor. "
      ]
    },
    {
      "cell_type": "code",
      "execution_count": 3,
      "metadata": {
        "colab": {
          "base_uri": "https://localhost:8080/"
        },
        "id": "ZzAQYfNC5zx4",
        "outputId": "53cafb6e-c27b-4f8e-cc7e-7f0139e8735f"
      },
      "outputs": [
        {
          "output_type": "execute_result",
          "data": {
            "text/plain": [
              "[0, 4, 8, 12, 16, 20]"
            ]
          },
          "metadata": {},
          "execution_count": 3
        }
      ],
      "source": [
        "[x for x in range(21) if x%4==0]"
      ]
    },
    {
      "cell_type": "markdown",
      "metadata": {
        "id": "EvdU9HGz5zx4"
      },
      "source": [
        "3. Write a generator function which will return the string 'foo' every fifth call, and 'moo' otherwise."
      ]
    },
    {
      "cell_type": "code",
      "execution_count": 7,
      "metadata": {
        "colab": {
          "base_uri": "https://localhost:8080/"
        },
        "id": "8QQK9nNU5zx4",
        "outputId": "17b4fe2c-5b9d-4cbd-f51c-bbf86ec0047e"
      },
      "outputs": [
        {
          "output_type": "stream",
          "name": "stdout",
          "text": [
            "foo\n",
            "moo\n",
            "moo\n",
            "moo\n",
            "moo\n",
            "foo\n",
            "moo\n",
            "moo\n",
            "moo\n",
            "moo\n",
            "foo\n"
          ]
        }
      ],
      "source": [
        "def foo_moo():\n",
        "    i = 0\n",
        "    while True:\n",
        "        if i%5==0:\n",
        "          yield 'foo'\n",
        "        else:\n",
        "          yield 'moo'  \n",
        "        i += 1\n",
        "    \n",
        "fm = foo_moo()\n",
        "\n",
        "for _ in range(11):\n",
        "  print(next(fm))"
      ]
    },
    {
      "cell_type": "markdown",
      "metadata": {
        "id": "JLgdaFPs5zx5"
      },
      "source": [
        "4. A comprehension using curly brackets will produce a dictionary. Set the variable 'name' to your name and use it to create a dictionary "
      ]
    },
    {
      "cell_type": "code",
      "execution_count": 8,
      "metadata": {
        "colab": {
          "base_uri": "https://localhost:8080/"
        },
        "id": "CX5ATbH55zx5",
        "outputId": "2e272852-9208-44f1-a396-ecf0635933c2"
      },
      "outputs": [
        {
          "output_type": "execute_result",
          "data": {
            "text/plain": [
              "{'B': 0, 'r': 1, 'i': 2, 't': 4, 'a': 5}"
            ]
          },
          "metadata": {},
          "execution_count": 8
        }
      ],
      "source": [
        "name = 'Britta'\n",
        "items = zip(list(name), list(range(len(name))))\n",
        "\n",
        "{x:y for x,y in items}"
      ]
    },
    {
      "cell_type": "code",
      "source": [],
      "metadata": {
        "id": "zS52hOOe8ptJ"
      },
      "execution_count": null,
      "outputs": []
    }
  ],
  "metadata": {
    "kernelspec": {
      "display_name": "Python 3",
      "language": "python",
      "name": "python3"
    },
    "language_info": {
      "codemirror_mode": {
        "name": "ipython",
        "version": 3
      },
      "file_extension": ".py",
      "mimetype": "text/x-python",
      "name": "python",
      "nbconvert_exporter": "python",
      "pygments_lexer": "ipython3",
      "version": "3.7.6"
    },
    "colab": {
      "provenance": [],
      "include_colab_link": true
    }
  },
  "nbformat": 4,
  "nbformat_minor": 0
}