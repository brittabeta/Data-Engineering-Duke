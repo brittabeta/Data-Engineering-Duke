{
  "cells": [
    {
      "cell_type": "markdown",
      "metadata": {
        "id": "view-in-github",
        "colab_type": "text"
      },
      "source": [
        "<a href=\"https://colab.research.google.com/github/brittabeta/Learning-Sandbox/blob/main/Essential_Python.ipynb\" target=\"_parent\"><img src=\"https://colab.research.google.com/assets/colab-badge.svg\" alt=\"Open In Colab\"/></a>"
      ]
    },
    {
      "cell_type": "markdown",
      "metadata": {
        "id": "frAhlyso9Cae"
      },
      "source": [
        "# Essential Python"
      ]
    },
    {
      "cell_type": "markdown",
      "metadata": {
        "id": "4CgUcgdU9Cak"
      },
      "source": [
        "1. The random library has a function `random.randint(a, b)` which takes two arguments, a lower integer and a higher integer, it then returns a random integer not lower than the first and not higher than the second. Use this method, with the arguments `(1, 5)` to create a list of 10 random integers. A list comprehension would be a good solution, but not the only one."
      ]
    },
    {
      "cell_type": "code",
      "execution_count": 2,
      "metadata": {
        "colab": {
          "base_uri": "https://localhost:8080/"
        },
        "id": "QAFAhinT9Cal",
        "outputId": "614c8234-e496-4c53-e73a-7d20815c1e7d"
      },
      "outputs": [
        {
          "output_type": "execute_result",
          "data": {
            "text/plain": [
              "[3, 1, 1, 4, 2, 4, 4, 4, 5, 3]"
            ]
          },
          "metadata": {},
          "execution_count": 2
        }
      ],
      "source": [
        "import random\n",
        "\n",
        "numbers = [random.randint(1,5) for x in range(10)]\n",
        "numbers"
      ]
    },
    {
      "cell_type": "markdown",
      "metadata": {
        "id": "syRzHQFL9Can"
      },
      "source": [
        "2. Use an if statement to check if the number four is in the list. If it is, use the list `.count(a)` method to count the number of occurances of four, and insert this number into the f-string on the second line."
      ]
    },
    {
      "cell_type": "code",
      "execution_count": 4,
      "metadata": {
        "colab": {
          "base_uri": "https://localhost:8080/"
        },
        "id": "I_A7nKWQ9Can",
        "outputId": "0018661e-e2d9-4b53-d524-5a3673e14fe8"
      },
      "outputs": [
        {
          "output_type": "stream",
          "name": "stdout",
          "text": [
            "2 fours found\n"
          ]
        }
      ],
      "source": [
        "list = [1,2,3,4,4,5,6,7,8]\n",
        "\n",
        "if list.count(4):\n",
        "    print(f\"{    list.count(4)   } fours found\")\n",
        "else:\n",
        "    print(\"No fours found\")"
      ]
    },
    {
      "cell_type": "markdown",
      "metadata": {
        "id": "UYKEWTib9Cao"
      },
      "source": [
        "3. Lists have a `sort()` method which will sort the list in place. Use this method to sort the numbers."
      ]
    },
    {
      "cell_type": "code",
      "execution_count": 5,
      "metadata": {
        "colab": {
          "base_uri": "https://localhost:8080/"
        },
        "id": "u8x3X4bN9Cao",
        "outputId": "7e3d0a7f-4a3e-4aee-ba40-3fc882df5ee7"
      },
      "outputs": [
        {
          "output_type": "execute_result",
          "data": {
            "text/plain": [
              "[1, 1, 2, 3, 3, 4, 4, 4, 4, 5]"
            ]
          },
          "metadata": {},
          "execution_count": 5
        }
      ],
      "source": [
        "numbers.sort()\n",
        "numbers"
      ]
    },
    {
      "cell_type": "markdown",
      "metadata": {
        "id": "81kHdFye9Cap"
      },
      "source": [
        "4. Lists have a `reverse()` method which will reverse order. Use this method to reverse the order of numbers."
      ]
    },
    {
      "cell_type": "code",
      "execution_count": 6,
      "metadata": {
        "colab": {
          "base_uri": "https://localhost:8080/"
        },
        "id": "dn9oRkbD9Caq",
        "outputId": "8b7c2d1a-1b92-4b27-f039-87fb0453a31a"
      },
      "outputs": [
        {
          "output_type": "execute_result",
          "data": {
            "text/plain": [
              "[5, 4, 4, 4, 4, 3, 3, 2, 1, 1]"
            ]
          },
          "metadata": {},
          "execution_count": 6
        }
      ],
      "source": [
        "numbers.reverse()\n",
        "numbers"
      ]
    },
    {
      "cell_type": "markdown",
      "metadata": {
        "id": "BuSUJ5J99Caq"
      },
      "source": [
        "5. Use the star syntax to assign the first item to the variable `a`, the middle items to the variable `b`, and the last item to variable `c`"
      ]
    },
    {
      "cell_type": "code",
      "execution_count": 8,
      "metadata": {
        "colab": {
          "base_uri": "https://localhost:8080/"
        },
        "id": "C7dDE6189Car",
        "outputId": "a41df1d3-9648-4219-b274-56d57d5d6594"
      },
      "outputs": [
        {
          "output_type": "stream",
          "name": "stdout",
          "text": [
            "1\n",
            "[2, 3, 4, 4]\n",
            "5\n"
          ]
        }
      ],
      "source": [
        "a, *b, c = 1,2,3,4,4,5\n",
        "print(a)\n",
        "print(b)\n",
        "print(c)"
      ]
    },
    {
      "cell_type": "markdown",
      "metadata": {
        "id": "-yZzeCH79Car"
      },
      "source": [
        "6. Cast numbers to a set and assign the result to the variable `unique_numbers`."
      ]
    },
    {
      "cell_type": "code",
      "execution_count": 9,
      "metadata": {
        "colab": {
          "base_uri": "https://localhost:8080/"
        },
        "id": "_aTMCBEU9Cas",
        "outputId": "d322da4c-0934-4bc8-ae3f-9f8489aaa934"
      },
      "outputs": [
        {
          "output_type": "execute_result",
          "data": {
            "text/plain": [
              "{1, 2, 3, 4, 5}"
            ]
          },
          "metadata": {},
          "execution_count": 9
        }
      ],
      "source": [
        "unique_numbers = set(numbers)\n",
        "unique_numbers"
      ]
    },
    {
      "cell_type": "markdown",
      "metadata": {
        "id": "P4wEiW039Cas"
      },
      "source": [
        "7. Create a dictionary named `number_records` with the keys 'numbers' and 'unique_numbers' and the values `numbers` and `unique_numbers`."
      ]
    },
    {
      "cell_type": "code",
      "execution_count": 11,
      "metadata": {
        "colab": {
          "base_uri": "https://localhost:8080/"
        },
        "id": "Wu4h7kwu9Cas",
        "outputId": "d7d4bc91-4435-45ce-a903-734a26b02893"
      },
      "outputs": [
        {
          "output_type": "execute_result",
          "data": {
            "text/plain": [
              "{'numbers': [5, 4, 4, 4, 4, 3, 3, 2, 1, 1], 'unique_numbers': {1, 2, 3, 4, 5}}"
            ]
          },
          "metadata": {},
          "execution_count": 11
        }
      ],
      "source": [
        "number_records = dict(numbers=numbers,unique_numbers=unique_numbers)\n",
        "                \n",
        "\n",
        "number_records"
      ]
    },
    {
      "cell_type": "code",
      "source": [],
      "metadata": {
        "id": "ffmTExPNAHDC"
      },
      "execution_count": null,
      "outputs": []
    }
  ],
  "metadata": {
    "kernelspec": {
      "display_name": "Python 3",
      "language": "python",
      "name": "python3"
    },
    "language_info": {
      "codemirror_mode": {
        "name": "ipython",
        "version": 3
      },
      "file_extension": ".py",
      "mimetype": "text/x-python",
      "name": "python",
      "nbconvert_exporter": "python",
      "pygments_lexer": "ipython3",
      "version": "3.7.6"
    },
    "colab": {
      "provenance": [],
      "include_colab_link": true
    }
  },
  "nbformat": 4,
  "nbformat_minor": 0
}