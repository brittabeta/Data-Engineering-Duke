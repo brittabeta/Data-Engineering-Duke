{
  "cells": [
    {
      "cell_type": "markdown",
      "metadata": {
        "id": "view-in-github",
        "colab_type": "text"
      },
      "source": [
        "<a href=\"https://colab.research.google.com/github/brittabeta/Data-Engineering-Duke/blob/main/scraping_with_htmlparser.ipynb\" target=\"_parent\"><img src=\"https://colab.research.google.com/assets/colab-badge.svg\" alt=\"Open In Colab\"/></a>"
      ]
    },
    {
      "cell_type": "markdown",
      "metadata": {
        "id": "T2aXZZkUYban"
      },
      "source": [
        "## Simple parsing with HTMLParser\n",
        "\n",
        "In this notebook you will practice one of the workflows for using `HTMLParser` effectively. As you already know, `HTMLParser` is a streaming parser, where data comes in with chunks. Each chunk of data has delimeters like tags. \n",
        "\n",
        "Use predefined HTML variables with raw content that can be parsed. Instead of requesting the data from the web, the content is already defined and available to be processed. The process is the same to scrape the html.\n",
        "\n",
        "[HTMLParser Documentation](https://python.readthedocs.io/en/v2.7.2/library/htmlparser.html )"
      ]
    },
    {
      "cell_type": "code",
      "execution_count": 1,
      "metadata": {
        "id": "vowta5c9Ybaq"
      },
      "outputs": [],
      "source": [
        "content = \"\"\"\n",
        "<!DOCTYPE html>\n",
        "<html class=\"client-nojs\" lang=\"en\" dir=\"ltr\">\n",
        "<head>\n",
        "<meta charset=\"UTF-8\"/>\n",
        "<title>1992 World Junior Championships in Athletics – Men's high jump - Wikipedia</title>\n",
        "\"\"\"\n"
      ]
    },
    {
      "cell_type": "markdown",
      "metadata": {
        "id": "zONwYxiVYbar"
      },
      "source": [
        "Now that the data is available, import the html modules so that you can write the class next. The class has to have the `__init__()` method and set some class attributes."
      ]
    },
    {
      "cell_type": "code",
      "execution_count": 2,
      "metadata": {
        "id": "sETr0q_oYbas"
      },
      "outputs": [],
      "source": [
        "from html.parser import HTMLParser\n",
        "\n",
        "class Parser(HTMLParser):\n",
        "\n",
        "    def __init__(self):\n",
        "        super().__init__()\n",
        "        self.recording = False\n",
        "\n",
        "    def handle_starttag(self, tag, attrs):\n",
        "        if tag == \"title\": # here setting what we want to obtain\n",
        "            self.recording = True\n",
        "        else:\n",
        "            self.recording = False\n",
        "            \n",
        "    def handle_data(self, data):\n",
        "        if self.recording:\n",
        "            print(f\"Found data for tag: {data}\")\n",
        "            # missing to stop extraction\n",
        "            "
      ]
    },
    {
      "cell_type": "code",
      "execution_count": 3,
      "metadata": {
        "colab": {
          "base_uri": "https://localhost:8080/"
        },
        "id": "L8CbkdkZYbat",
        "outputId": "4e8e61ed-faec-4e71-adb0-12c809374fea"
      },
      "outputs": [
        {
          "output_type": "stream",
          "name": "stdout",
          "text": [
            "Found data for tag: 1992 World Junior Championships in Athletics – Men's high jump - Wikipedia\n",
            "Found data for tag: \n",
            "\n"
          ]
        }
      ],
      "source": [
        "p = Parser()\n",
        "p.feed(content)"
      ]
    },
    {
      "cell_type": "markdown",
      "metadata": {
        "id": "nmUOFku5Ybau"
      },
      "source": [
        "Why is `handled_data()` printing twice? The second line appears to have an _empty_ data. Here is one way to find out: update the `handle_data()` method so that it displays the string with the `repr()` built-in function:\n",
        "\n",
        "Run the cell where the class lives and re-run the Parser cell again to see if you spot the problem"
      ]
    },
    {
      "cell_type": "code",
      "source": [
        "from html.parser import HTMLParser\n",
        "\n",
        "class Parser(HTMLParser):\n",
        "\n",
        "    def __init__(self):\n",
        "        super().__init__()\n",
        "        self.recording = False\n",
        "\n",
        "    def handle_starttag(self, tag, attrs):\n",
        "        if tag == \"title\": # here setting what we want to obtain\n",
        "            self.recording = True\n",
        "        else:\n",
        "            self.recording = False\n",
        "            \n",
        "    def handle_data(self, data):\n",
        "        if self.recording:\n",
        "            print(f\"Found data for tag: {repr(data)}\") #repr() helps when there are hidden characters that `print()` - Not Wanted\n",
        "            # now prints as '\\n' if empty\n",
        "            # missing to stop extraction CHANGE\n",
        "            #self.recording = False"
      ],
      "metadata": {
        "id": "YH68iOogZV2x"
      },
      "execution_count": 8,
      "outputs": []
    },
    {
      "cell_type": "code",
      "source": [
        "p = Parser()\n",
        "p.feed(content)"
      ],
      "metadata": {
        "colab": {
          "base_uri": "https://localhost:8080/"
        },
        "id": "lLgiDWG1Zmtr",
        "outputId": "0d58ec7c-63b7-48d7-d491-e1ce790df8a7"
      },
      "execution_count": 9,
      "outputs": [
        {
          "output_type": "stream",
          "name": "stdout",
          "text": [
            "Found data for tag: \"1992 World Junior Championships in Athletics – Men's high jump - Wikipedia\"\n",
            "Found data for tag: '\\n'\n"
          ]
        }
      ]
    },
    {
      "cell_type": "markdown",
      "metadata": {
        "id": "5v8AtkiWYbav"
      },
      "source": [
        "Think about what changes could you make to prevent two lines showing in the output. There are several approaches you could take to improve the quality of the data gathering, and the previous cells showed one. But what if you are also dealing with newline characters? Or other non-visible characters? An alternative you could try is to append the data found to a list instead of printing, and when the parsing is completed, joining the data found.\n",
        "Here is how that would look with an example data."
      ]
    },
    {
      "cell_type": "code",
      "execution_count": 10,
      "metadata": {
        "colab": {
          "base_uri": "https://localhost:8080/"
        },
        "id": "8gQV3RmqYbaw",
        "outputId": "3b05e0e4-ac03-41f7-a793-e713136a2393"
      },
      "outputs": [
        {
          "output_type": "stream",
          "name": "stdout",
          "text": [
            "1992 World Junior Championships in Athletics – Men's high jump\n",
            "\n",
            "Wikipedia\n"
          ]
        }
      ],
      "source": [
        "captured_data = [\"1992 World Junior Championships in Athletics – Men's high jump\", \"\\n\", \"\\n\", \"Wikipedia\"]\n",
        "print(''.join(captured_data))"
      ]
    },
    {
      "cell_type": "code",
      "source": [
        "from html.parser import HTMLParser\n",
        "\n",
        "class Parser(HTMLParser):\n",
        "\n",
        "    def __init__(self):\n",
        "        super().__init__()\n",
        "        self.recording = False\n",
        "\n",
        "    def handle_starttag(self, tag, attrs):\n",
        "        if tag == \"title\": # here setting what we want to obtain\n",
        "            self.recording = True\n",
        "        else:\n",
        "            self.recording = False\n",
        "            \n",
        "    def handle_data(self, data):\n",
        "        if self.recording:\n",
        "            print(f\"Found data for tag: {repr(data)}\") #repr() helps when there are hidden characters that `print()` - Not Wanted\n",
        "            # now prints as '\\n' if empty\n",
        "            # missing to stop extraction CHANGE\n",
        "            self.recording = False #CHANGE2"
      ],
      "metadata": {
        "id": "wNz38OhFa2nz"
      },
      "execution_count": 11,
      "outputs": []
    },
    {
      "cell_type": "code",
      "source": [
        "p = Parser()\n",
        "p.feed(content)"
      ],
      "metadata": {
        "colab": {
          "base_uri": "https://localhost:8080/"
        },
        "id": "xbUsW3pRa7Px",
        "outputId": "b2a86c35-08e1-4a65-d2d9-99ef3aa247f9"
      },
      "execution_count": 12,
      "outputs": [
        {
          "output_type": "stream",
          "name": "stdout",
          "text": [
            "Found data for tag: \"1992 World Junior Championships in Athletics – Men's high jump - Wikipedia\"\n"
          ]
        }
      ]
    },
    {
      "cell_type": "markdown",
      "source": [
        "with out self.recording false, change print"
      ],
      "metadata": {
        "id": "p1ALxJxpbdmm"
      }
    },
    {
      "cell_type": "code",
      "source": [
        "from html.parser import HTMLParser\n",
        "\n",
        "class Parser(HTMLParser):\n",
        "\n",
        "    def __init__(self):\n",
        "        super().__init__()\n",
        "        self.recording = False\n",
        "\n",
        "    def handle_starttag(self, tag, attrs):\n",
        "        if tag == \"title\": # here setting what we want to obtain\n",
        "            self.recording = True\n",
        "        else:\n",
        "            self.recording = False\n",
        "            \n",
        "    def handle_data(self, data):\n",
        "        if self.recording:\n",
        "            #print(f\"Found data for tag: {repr(data)}\") #repr() helps when there are hidden characters that `print()` - Not Wanted \n",
        "            print(''.join(data)) #CHANGE3\n",
        "            # now prints as '\\n' if empty\n",
        "            # missing to stop extraction CHANGE\n",
        "            #self.recording = False #CHANGE2"
      ],
      "metadata": {
        "id": "-HQVk0dZbc3G"
      },
      "execution_count": 13,
      "outputs": []
    },
    {
      "cell_type": "code",
      "source": [
        "p = Parser()\n",
        "p.feed(content)"
      ],
      "metadata": {
        "colab": {
          "base_uri": "https://localhost:8080/"
        },
        "id": "U9u_0SwCbD-H",
        "outputId": "0ee1f9f3-08b7-4916-bca3-8fe0f5bdd818"
      },
      "execution_count": 14,
      "outputs": [
        {
          "output_type": "stream",
          "name": "stdout",
          "text": [
            "1992 World Junior Championships in Athletics – Men's high jump - Wikipedia\n",
            "\n",
            "\n"
          ]
        }
      ]
    },
    {
      "cell_type": "code",
      "source": [],
      "metadata": {
        "id": "YnK7gH0Cb9Or"
      },
      "execution_count": null,
      "outputs": []
    }
  ],
  "metadata": {
    "interpreter": {
      "hash": "bd2f83ef6aaf4a37d879bac4506a61ecf83930e56ca6bae2ddb43fbf873d7559"
    },
    "kernelspec": {
      "display_name": "Python 3",
      "language": "python",
      "name": "python3"
    },
    "language_info": {
      "codemirror_mode": {
        "name": "ipython",
        "version": 3
      },
      "file_extension": ".py",
      "mimetype": "text/x-python",
      "name": "python",
      "nbconvert_exporter": "python",
      "pygments_lexer": "ipython3",
      "version": "3.7.6"
    },
    "colab": {
      "provenance": [],
      "include_colab_link": true
    }
  },
  "nbformat": 4,
  "nbformat_minor": 0
}